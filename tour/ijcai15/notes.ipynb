{
 "cells": [
  {
   "cell_type": "markdown",
   "metadata": {},
   "source": [
    "Reproduce the Results of the IJCAI'15 Paper\n",
    "==========================================="
   ]
  },
  {
   "cell_type": "markdown",
   "metadata": {},
   "source": [
    "<a id='toc'></a>\n",
    "1. [Dataset](#dataset)\n",
    "1. [POI Geo-coordinates](#poi-coord)\n",
    "1. [Recommend Itinerary](#recommendation)\n",
    "1. [Issues](#issue)\n",
    "1. [Results](#result)\n",
    " * [POI Popularity](#result1)\n",
    " * [Time-based User Interest](#result2)\n",
    " * [Frequency-based User Interest](#result3)\n",
    " * [Precision, Recall and F1-score](#result4)\n",
    " * [Transition Matrix for POI categories](#result5)\n",
    "1. [Tour Enumeration](#enum)\n",
    "1. [Transition Matrix for Time at POI](#transtime)"
   ]
  },
  {
   "cell_type": "markdown",
   "metadata": {},
   "source": [
    "**NOTE: Please view this page via [IPython Notebook Viewer Service](http://nbviewer.ipython.org/), otherwise the within-page links may not work properly.**\n",
    "<a id='dataset'></a>"
   ]
  },
  {
   "cell_type": "markdown",
   "metadata": {},
   "source": [
    "1. Dataset [&#8648;](#toc)\n",
    "-------------------\n",
    "The dataset used in this paper can be downloaded [here](https://sites.google.com/site/limkwanhui/datacode#ijcai15).\n",
    "It also gives some description and statistics of this dataset.\n",
    "However, one critical portion of information is missing in this dataset, i.e. the geo-location of each Points of Interest(POI),\n",
    "which makes it impossible to calculate the travel time from one POI to another unless the longitude and latitude of each POI is provided by other means.\n",
    "\n",
    "Simple statistics of this dataset\n",
    "<table>\n",
    "<tr>\n",
    "<td><b>City</b></td>\n",
    "<td><b>#POIs</b></td>\n",
    "<td><b>#Users</b></td>\n",
    "<td><b>#POI_Visits</b></td>\n",
    "<td><b>#Travel_Sequences</b></td></tr>\n",
    "<tr><td>Toronto</td><td>29</td><td>1,395</td><td>39,419</td><td>6,057</td></tr>\n",
    "<tr><td>Osaka</td><td>27</td><td>450</td><td>7,747</td><td>1,115</td></tr>\n",
    "<tr><td>Glasgow</td><td>27</td><td>601</td><td>11,434</td><td>2,227</td></tr>\n",
    "<tr><td>Edinburgh</td><td>28</td><td>1,454</td><td>33,944</td><td>5,028</td></tr>\n",
    "</table>\n",
    "\n",
    "*NOTE: the number of photos for each city described in paper is NOT available in this dataset*\n",
    "\n",
    "Fortunately, this info could be retrived from the original YFCC100M dataset by search the individual photoID which is included in this dataset. The YFCC100M dataset could be downloaded from [here](http://www.referitgame.com/vicente/flickr100M/) easily (but with patience)."
   ]
  },
  {
   "cell_type": "markdown",
   "metadata": {},
   "source": [
    "<a id='poi-coord'></a>"
   ]
  },
  {
   "cell_type": "markdown",
   "metadata": {},
   "source": [
    "2. POI Geo-coordinates [&#8648;](#toc)\n",
    "----------------------------------------\n",
    "For each photo used in this paper, its POI ID is available in the [dataset](https://sites.google.com/site/limkwanhui/datacode#ijcai15), thus, the longitude and latitude of each POI could be approximated by the mean value of all the corresponding photos' coordinates which could be retrived from the YFCC100M dataset.\n",
    "\n",
    "To accelerate the searching process, first extract the photo id, longitude and latitude columns from the whole dataset"
   ]
  },
  {
   "cell_type": "code",
   "execution_count": null,
   "metadata": {
    "collapsed": false
   },
   "outputs": [],
   "source": [
    "cut -d $'\\t' -f1,11,12 yfcc100m_dataset >> dataset.yfcc"
   ]
  },
  {
   "cell_type": "markdown",
   "metadata": {},
   "source": [
    "then search the coordinates by grepping photo id"
   ]
  },
  {
   "cell_type": "code",
   "execution_count": null,
   "metadata": {
    "collapsed": false
   },
   "outputs": [],
   "source": [
    "cut -d ';' -f 1,4 uservisit.txt |while read line\n",
    "do\n",
    "    photoid=`echo \"$line\" |cut -d ';' -f 1`\n",
    "    result=`grep -P \"^$photoid\\t\" dataset.yfcc`\n",
    "    if [ ! -z \"$result\" ]; then\n",
    "        coords=`echo \"$result\" |sed 's/\\t/:/g'`\n",
    "        echo \"$coords\" >> poi.coords\n",
    "    fi  \n",
    "done"
   ]
  },
  {
   "cell_type": "markdown",
   "metadata": {},
   "source": [
    "For further accelertion, one could import YFCC100M dataset to a database, though very time-consuming, then search by photo id.\n",
    "The SQL statements for create a database and a table for the dataset looks like"
   ]
  },
  {
   "cell_type": "code",
   "execution_count": null,
   "metadata": {
    "collapsed": false
   },
   "outputs": [],
   "source": [
    "CREATE DATABASE yfcc100m;\n",
    "CREATE TABLE yfcc100m.tdata(\n",
    "    pv_id           BIGINT UNSIGNED NOT NULL UNIQUE PRIMARY KEY, /* Photo/video identifier */\n",
    "    longitude       FLOAT,  /* Longitude */\n",
    "    latitude        FLOAT   /* Latitude */\n",
    ");\n",
    "COMMIT;"
   ]
  },
  {
   "cell_type": "markdown",
   "metadata": {},
   "source": [
    "and Python code for importing dataset"
   ]
  },
  {
   "cell_type": "code",
   "execution_count": null,
   "metadata": {
    "collapsed": false
   },
   "outputs": [],
   "source": [
    "import mysql.connector as db\n",
    "\n",
    "def import_data(fname):\n",
    "    \"\"\"Import data records from file\"\"\"\n",
    "    dbconnection = db.connect(user='USERNAME', password='PASSWORD')\n",
    "    cursor = dbconnection.cursor()\n",
    "    with open(fname, 'r') as f:\n",
    "        for line in f:\n",
    "            items = line.split('\\t')\n",
    "            assert(len(items) == 3)\n",
    "            pv_id     = items[0]\n",
    "            longitude = items[1]\n",
    "            latitude  = items[2]\n",
    "            if len(longitude.strip()) == 0 or len(latitude.strip()) == 0:\n",
    "                continue\n",
    "            sqlstr = 'INSERT INTO yfcc100m.tdata VALUES (' + pv_id + ', ' + longitude.strip() + ', ' + latitude.strip() + ')' \n",
    "            try:\n",
    "                cursor.execute(sqlstr)\n",
    "            except db.Error as error:\n",
    "                print('ERROR: {}'.format(error))\n",
    "    dbconnection.commit()\n",
    "    dbconnection.close()"
   ]
  },
  {
   "cell_type": "markdown",
   "metadata": {},
   "source": [
    "Then, searching the coordinates of each photo is very easy and fast"
   ]
  },
  {
   "cell_type": "code",
   "execution_count": null,
   "metadata": {
    "collapsed": false
   },
   "outputs": [],
   "source": [
    "import mysql.connector as db\n",
    "\n",
    "def search_coords(fin, fout):\n",
    "    \"\"\"Search Longitude and Latitude for each geo-tagged photo\"\"\"\n",
    "    dbconnection = db.connect(user='USERNAME', password='PASSWORD', database='yfcc100m')\n",
    "    cursor = dbconnection.cursor()\n",
    "    records = []\n",
    "    with open(fin, 'r') as f:\n",
    "        for line in f:\n",
    "            items = line.split(';')\n",
    "            assert len(items) == 7\n",
    "            photoID = items[0]\n",
    "            poiID   = items[3]\n",
    "            sqlstr = \"SELECT ROUND(longitude, 6), ROUND(latitude, 6) FROM tdata WHERE pv_id = \" + photoID\n",
    "            cursor.execute(sqlstr)\n",
    "            for longitude, latitude in cursor:\n",
    "                records.append(poiID + ':' + photoID + ':' + str(longitude) + ':' + str(latitude))\n",
    "    dbconnection.commit()\n",
    "    dbconnection.close()\n",
    "    with open(fout, 'w') as f:\n",
    "        for line in records:\n",
    "            f.write(line + '\\n')"
   ]
  },
  {
   "cell_type": "markdown",
   "metadata": {},
   "source": [
    "<a id='recommendation'></a>"
   ]
  },
  {
   "cell_type": "markdown",
   "metadata": {},
   "source": [
    "3. Recommend Itinerary [&#8648;](#toc)\n",
    "----------------------\n",
    "The paper formulates an Integer Linear Programming(ILP) to recommend an itinerary given a set of POIs, a budget, a source and destination POI, it maximize an objective function which combines travelling time with personalized visit durations.\n",
    "\n",
    "[PuLP](https://github.com/coin-or/pulp) from the [COIN-OR](http://www.coin-or.org/) project is a useful Python library for modeling linear and integer programs, many LP solvers such as [GLPK](http://www.gnu.org/software/glpk/), [CBC](https://projects.coin-or.org/Cbc), [CPLEX](http://www.ibm.com/software/commerce/optimization/cplex-optimizer/) and [Gurobi](http://www.gurobi.com) can be called to solve the model.\n",
    "Its comprehensive documentation is available [here](https://pythonhosted.org/PuLP/index.html).The formulation details can be found in the [MIP_recommend()](https://github.com/cdawei/digbeta/blob/master/example/ijcai15/ijcai15.py) method."
   ]
  },
  {
   "cell_type": "markdown",
   "metadata": {},
   "source": [
    "<a id='issue'></a>"
   ]
  },
  {
   "cell_type": "markdown",
   "metadata": {},
   "source": [
    "4. Issues [&#8648;](#toc)\n",
    "---------\n",
    "1. Is it necessary to consider visiting a certain POI more than one times? This paper ignores this setting.\n",
    "\n",
    "1. Dealing with edge case $\\bar{V}(p) = 0$\n",
    " \n",
    " It appears when POIs at which just one photo was taken for each visited user (including some user just took/uploaded two or more photos with the same timestamp), the case does appear in this [dataset](https://sites.google.com/site/limkwanhui/datacode#ijcai15).\n",
    "\n",
    " For all users $U$, POI $p$, arrival time $p^a$ and depature time $p^d$, The Average POI Visit Duration is defined as: \n",
    "$\\bar{V}(p) = \\frac{1}{n}\\sum_{u \\in U}\\sum_{p_x \\in S_u}(t_{p_x}^d - t_{p_x}^a)\\delta(p_x = p), \\forall p \\in P$\n",
    "\n",
    " and Time-based User Interest is defined as:\n",
    "$Int_u^Time(c) = \\sum_{p_x \\in S_u} \\frac{t_{p_x}^d - t_{p_x}^a}{\\bar{V}(p_x)} \\delta(Cat_{p_x} = c), \\forall c \\in C$\n",
    "\n",
    " Up to now, two strategies have been tried:\n",
    "  * let the term $\\frac{t_{p_x}^d - t_{p_x}^a}{\\bar{V}(p_x)} = K$, where $K$ is a constant (e.g. 2). This approach seems to work, but the effects of different constants should be tested\n",
    "  * discard all photo records in [dataset](https://sites.google.com/site/limkwanhui/datacode#ijcai15) related to the edge case. This approach suffers from throwing too much information, makes the useful dataset too small (at about 1% of the original dataset sometimes)\n",
    "\n",
    "1. [CBC](https://projects.coin-or.org/Cbc) is still too slow for large sequences (length >= 4)\n",
    " * use [Gurobi](http://www.gurobi.com) on CECS servers"
   ]
  },
  {
   "cell_type": "markdown",
   "metadata": {},
   "source": [
    "<a id='result'></a>"
   ]
  },
  {
   "cell_type": "markdown",
   "metadata": {},
   "source": [
    "5. Results [&#8648;](#toc)\n",
    "----------\n",
    "<a id='result1'></a>"
   ]
  },
  {
   "cell_type": "markdown",
   "metadata": {},
   "source": [
    "### 5.1 POI Popularity [&#8648;](#toc)\n",
    "\n",
    "POI Popularity $Pop(p)$: the number of times POI $p$ has been visited.\n",
    "\n",
    "<a href=\"images/Edin_poi_pop.png\" title=\"Edinburgh\"><img src=\"images/Edin_poi_pop.png\" style=\"width:650px;position:relative;left:-100px\"></a>\n",
    "<a href=\"images/Glas_poi_pop.png\" title=\"Glasgow\"><img src=\"images/Glas_poi_pop.png\" style=\"width:650px;position:relative;left:-100px\"></a>\n",
    "<a href=\"images/Osak_poi_pop.png\" title=\"Osaka\"><img src=\"images/Osak_poi_pop.png\" style=\"width:650px;position:relative;left:-100px\"></a>\n",
    "<a href=\"images/Toro_poi_pop.png\" title=\"Toronto\"><img src=\"images/Toro_poi_pop.png\" style=\"width:650px;position:relative;left:-100px\"></a>\n",
    "<a id='result2'></a>"
   ]
  },
  {
   "cell_type": "markdown",
   "metadata": {},
   "source": [
    "### 5.2 Time-based User Interest [&#8648;](#toc)\n",
    "\n",
    "The interest of a user $u$ in POI category $c$:\n",
    "$\n",
    "Int_u^{Time}(c) = \\sum_{p_x \\in S_u} \\frac{(t_{p_x}^d - t_{p_x}^a)}{\\bar{V}(p_x)}\\delta(Cat_{p_x} = c), \\forall c \\in C\n",
    "$\n",
    "\n",
    "where $Cat_{p_x}$ is the category of POI $p_x$, $t_{p_x}^a$ is user $u$'s arrival time at POI $p_x$ and $t_{p_x}^d$ is the departure time. $S_u$ is the user $u$'s tranvel history and $\\delta(Cat_{p_x} = c)$ equals $1$ if $Cat_{p_x} = c$ and $0$ otherwise.$\\bar{V}(p)$ is the average visit duration at POI $p$ for all users, \n",
    "$\n",
    "\\bar{V}(p) = \\frac{1}{n} \\sum_{u \\in U} \\sum_{p_x \\in S_u} (t_{p_x}^d - t_{p_x}^a) \\delta(p_x = p), \\forall p \\in P\n",
    "$\n",
    "\n",
    "<a href=\"images/Edin_time_usr_interest.png\" title=\"Edinburgh\"><img src=\"images/Edin_time_usr_interest.png\" style=\"width:650px;position:relative;left:-100px\"></a>\n",
    "<a href=\"images/Glas_time_usr_interest.png\" title=\"Glasgow\"><img src=\"images/Glas_time_usr_interest.png\" style=\"width:650px;position:relative;left:-100px\"></a>\n",
    "<a href=\"images/Osak_time_usr_interest.png\" title=\"Osaka\"><img src=\"images/Osak_time_usr_interest.png\" style=\"width:650px;position:relative;left:-100px\"></a>\n",
    "<a href=\"images/Toro_time_usr_interest.png\" title=\"Toronto\"><img src=\"images/Toro_time_usr_interest.png\" style=\"width:650px;position:relative;left:-100px\"></a>\n",
    "<a id='result3'></a>"
   ]
  },
  {
   "cell_type": "markdown",
   "metadata": {},
   "source": [
    "### 5.3 Frequency-based User Interest [&#8648;](#toc)\n",
    "\n",
    "Frequency-based User Interest $Int_u^{Freq}(c)$: the number of times user $u$ visits POIs of category $c$\n",
    "\n",
    "<a href=\"images/Edin_freq_usr_interest.png\" title=\"Edinburgh\"><img src=\"images/Edin_freq_usr_interest.png\" style=\"width:650px;position:relative;left:-100px\"></a>\n",
    "<a href=\"images/Glas_freq_usr_interest.png\" title=\"Glasgow\"><img src=\"images/Glas_freq_usr_interest.png\" style=\"width:650px;position:relative;left:-100px\"></a>\n",
    "<a href=\"images/Osak_freq_usr_interest.png\" title=\"Osaka\"><img src=\"images/Osak_freq_usr_interest.png\" style=\"width:650px;position:relative;left:-100px\"></a>\n",
    "<a href=\"images/Toro_freq_usr_interest.png\" title=\"Toronto\"><img src=\"images/Toro_freq_usr_interest.png\" style=\"width:650px;position:relative;left:-100px\"></a>\n",
    "\n",
    "<a id='result4'></a>"
   ]
  },
  {
   "cell_type": "markdown",
   "metadata": {},
   "source": [
    "### 5.4 Precision, Recall and F1-score [&#8648;](#toc)\n",
    "\n",
    "**Settings: Toronto, $\\eta$=0.5 with time-based user interest and POI popularity, 42/335 &asymp; 12.5% solutions are suboptimal, leave-one-out**\n",
    "\n",
    "<table>\n",
    "<tr><td></td><td><b>Recall</b></td><td><b>Precision</b></td><td><b>F1-score</b></td></tr>\n",
    "<tr><td><b>Paper</b></td><td>0.779&plusmn;0.010</td><td>0.706&plusmn;0.013</td><td>0.732&plusmn;0.012</td></tr>\n",
    "<tr><td><b>Reproduce</b></td><td>0.732&plusmn;0.179</td><td>0.736&plusmn;0.181</td><td>0.734&plusmn;0.179</td></tr>\n",
    "</table>\n",
    "\n",
    "Length of Recall, Precision and F1-score: 335<br>\n",
    "Unique values of Recall, Precision, F1-score: 0.40, 0.44, 0.50, 0.57, 0.60, 0.63, 0.67, 0.71, 0.75, 0.78, 0.80, 0.83, 0.85, 1.00<br>\n",
    "\n",
    "Box plot of Recall, Precision and F1-score\n",
    "<a href=\"images/Toro_bp_eta05_time.png\" title=\"Toronto\"><img src=\"images/Toro_bp_eta05_time.png\" style=\"width:400px;position:relative;left:-100px\"></a>\n",
    "\n",
    "\n",
    "**Settings: Toronto, $\\eta$=0.5 with frequency-based user interest and POI popularity, 43/335 &asymp; 12.8% solutions are suboptimal, leave-one-out**\n",
    "\n",
    "<table>\n",
    "<tr><td></td><td><b>Recall</b></td><td><b>Precision</b></td><td><b>F1-score</b></td></tr>\n",
    "<tr><td><b>Paper</b></td><td>0.760&plusmn;0.009</td><td>0.679&plusmn;0.013</td><td>0.708&plusmn;0.012</td></tr>\n",
    "<tr><td><b>Reproduce</b></td><td>0.709&plusmn;0.179</td><td>0.711&plusmn;0.180</td><td>0.710&plusmn;0.179</td></tr>\n",
    "</table>\n",
    "\n",
    "Length of Recall, Precision and F1-score: 335<br>\n",
    "Unique values of Recall, Precision, F1-score: 0.40, 0.43, 0.50, 0.56, 0.57, 0.60, 0.63, 0.67, 0.71, 0.75, 0.80, 0.83, 0.85, 1.00<br>\n",
    "\n",
    "Box plot of Recall, Precision and F1-score\n",
    "<a href=\"images/Toro_bp_eta05_freq.png\" title=\"Toronto\"><img src=\"images/Toro_bp_eta05_freq.png\" style=\"width:400px;position:relative;left:-100px\"></a>\n",
    "\n",
    "<a id='result5'></a>"
   ]
  },
  {
   "cell_type": "markdown",
   "metadata": {},
   "source": [
    "### 5.5 Transition matrix for POI categories [&#8648;](#toc)\n",
    "\n",
    "**Settings for recommended trajectories: Toronto, $\\eta$=0.5 with time-based user interest and 59/335 &asymp; 17.6% solutions are suboptimal**\n",
    "\n",
    "**NOTE**: the value of *matrix[i, j]* denotes the probability of visiting *category j* after visiting *category i* for an average visitor.\n",
    "\n",
    "Transition matrix for *recommended* trajectories:\n",
    "\n",
    "<table>\n",
    "<tr>\n",
    "<td></td>\n",
    "<td><b>Amusement</b></td>\n",
    "<td><b>Beach</b></td>\n",
    "<td><b>Cultural</b></td>\n",
    "<td><b>Shopping</b></td>\n",
    "<td><b>Sport</b></td>\n",
    "<td><b>Structure</b></td>\n",
    "</tr>\n",
    "<tr><td><b>Amusement</b></td>\n",
    "<td>0.035</td><td>0.266</td><td>0.259</td><td>0.098</td><td>0.266</td><td>0.077</td></tr>\n",
    "<tr><td><b>Beach</b></td>\n",
    "<td>0.177</td><td>0.222</td><td>0.254</td><td>0.113</td><td>0.069</td><td>0.165</td></tr>\n",
    "<tr><td><b>Cultural</b></td>\n",
    "<td>0.209</td><td>0.295</td><td>0.175</td><td>0.107</td><td>0.124</td><td>0.090</td></tr>\n",
    "<tr><td><b>Shopping</b></td>\n",
    "<td>0.146</td><td>0.404</td><td>0.281</td><td>0.000</td><td>0.090</td><td>0.079</td></tr>\n",
    "<tr><td><b>Sport</b></td>\n",
    "<td>0.229</td><td>0.219</td><td>0.305</td><td>0.086</td><td>0.086</td><td>0.076</td></tr>\n",
    "<tr><td><b>Structure</b></td>\n",
    "<td>0.212</td><td>0.282</td><td>0.247</td><td>0.094</td><td>0.141</td><td>0.024</td></tr>\n",
    "</table>\n",
    "\n",
    "Transition matrix for *actual* trajectories:\n",
    "\n",
    "<table>\n",
    "<tr>\n",
    "<td></td>\n",
    "<td><b>Amusement</b></td>\n",
    "<td><b>Beach</b></td>\n",
    "<td><b>Cultural</b></td>\n",
    "<td><b>Shopping</b></td>\n",
    "<td><b>Sport</b></td>\n",
    "<td><b>Structure</b></td>\n",
    "</tr>\n",
    "<tr><td><b>Amusement</b></td>\n",
    "<td>0.091</td><td>0.117</td><td>0.344</td><td>0.110</td><td>0.240</td><td>0.097</td></tr>\n",
    "<tr><td><b>Beach</b></td>\n",
    "<td>0.059</td><td>0.127</td><td>0.183</td><td>0.269</td><td>0.056</td><td>0.305</td></tr>\n",
    "<tr><td><b>Cultural</b></td>\n",
    "<td>0.131</td><td>0.204</td><td>0.114</td><td>0.201</td><td>0.064</td><td>0.286</td></tr>\n",
    "<tr><td><b>Shopping</b></td>\n",
    "<td>0.057</td><td>0.358</td><td>0.219</td><td>0.057</td><td>0.065</td><td>0.244</td></tr>\n",
    "<tr><td><b>Sport</b></td>\n",
    "<td>0.317</td><td>0.183</td><td>0.167</td><td>0.103</td><td>0.063</td><td>0.167</td></tr>\n",
    "<tr><td><b>Structure</b></td>\n",
    "<td>0.084</td><td>0.303</td><td>0.261</td><td>0.200</td><td>0.077</td><td>0.074</td></tr>\n",
    "</table>\n",
    "\n",
    "<a id='enum'></a>"
   ]
  },
  {
   "cell_type": "markdown",
   "metadata": {},
   "source": [
    "6. Tour Enumeration [&#8648;](#toc)\n",
    "--------------------\n",
    "For recommended tour/trajectories with length 3, 4 and 5, enumerating all possibilities are much easier to understand the recommendation results than using ILP to get a single best recommendation.\n",
    "\n",
    "**Settings for enumeration:** Toronto, $\\eta$=0.5 with time-based user interest, length for actual and recommended trajectories $\\in \\{3, 4, 5\\}$, data are available [here](https://www.dropbox.com/sh/r50t19fb6a1m1ud/AADxEJMQWyEMJyB17ewf1-oma?dl=0).\n",
    "\n",
    "[Interactive Python scripts](./src/plot_enumseq.py) to generate boxplots of enumerated trajectories' scores as well as the score of the actual travel sequences, e.g."
   ]
  },
  {
   "cell_type": "code",
   "execution_count": null,
   "metadata": {
    "collapsed": true
   },
   "outputs": [],
   "source": [
    "python3 plot_enumseq.py Toro_eta05_time_seqs.list"
   ]
  },
  {
   "cell_type": "markdown",
   "metadata": {},
   "source": [
    "file ```Toro_eta05_time_seqs.list``` is available [here](https://www.dropbox.com/sh/r50t19fb6a1m1ud/AADxEJMQWyEMJyB17ewf1-oma?dl=0).\n",
    "\n",
    "<a id='transtime'></a>"
   ]
  },
  {
   "cell_type": "markdown",
   "metadata": {},
   "source": [
    "7. Transition matrix for time at POI [&#8648;](#toc)\n",
    "------------------------------------\n",
    "Visit duration matrix $M$ for each user at each POI, data: [POI_visit_duration.zip](https://www.dropbox.com/sh/r50t19fb6a1m1ud/AADxEJMQWyEMJyB17ewf1-oma?dl=0).\n",
    "\n",
    "For each cell of a matrix, $M_{ij}$, denotes the $log10$ of visit duration for user $i$ at POI $j$, i.e.\n",
    "$M_{ij}$ = $log10$(visit duration of user $i$ at POI $j$) if the visit duration is greater than $0$ and $0$ otherwise."
   ]
  }
 ],
 "metadata": {
  "kernelspec": {
   "display_name": "Python 3",
   "language": "python",
   "name": "python3"
  },
  "language_info": {
   "codemirror_mode": {
    "name": "ipython",
    "version": 3
   },
   "file_extension": ".py",
   "mimetype": "text/x-python",
   "name": "python",
   "nbconvert_exporter": "python",
   "pygments_lexer": "ipython3",
   "version": "3.4.3+"
  }
 },
 "nbformat": 4,
 "nbformat_minor": 0
}
